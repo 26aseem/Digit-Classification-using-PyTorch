{
 "cells": [
  {
   "cell_type": "markdown",
   "metadata": {},
   "source": [
    "# Digit Classification using PyTorch"
   ]
  },
  {
   "cell_type": "code",
   "execution_count": 1,
   "metadata": {},
   "outputs": [],
   "source": [
    "import torch\n",
    "import torchvision\n",
    "from torchvision import transforms, datasets\n",
    "import matplotlib.pyplot as plt"
   ]
  },
  {
   "cell_type": "markdown",
   "metadata": {},
   "source": [
    "# Import the Datasets"
   ]
  },
  {
   "cell_type": "code",
   "execution_count": 2,
   "metadata": {},
   "outputs": [],
   "source": [
    "# Use torchvision to load the MNIST dataset, which is a image-based dataset showing handwritten digits from 0-9\n",
    "train = datasets.MNIST('', train=True, download=True,\n",
    "                       transform=transforms.Compose([\n",
    "                           transforms.ToTensor()\n",
    "                       ]))\n",
    "\n",
    "test = datasets.MNIST('', train=False, download=True,\n",
    "                       transform=transforms.Compose([\n",
    "                           transforms.ToTensor()\n",
    "                       ]))"
   ]
  },
  {
   "cell_type": "code",
   "execution_count": 3,
   "metadata": {},
   "outputs": [],
   "source": [
    "# Training and Testing data split\n",
    "# To train any machine learning model, we want to first off have training and validation datasets. \n",
    "# This is so we can use data that the machine has never seen before to \"test\" the machine.\n",
    "\n",
    "# Shuffling\n",
    "# Then, within our training dataset, we generally want to randomly shuffle the input data as much as possible to \n",
    "# hopefully not have any patterns in the data that might throw the machine off.\n",
    "\n",
    "trainset = torch.utils.data.DataLoader(train, batch_size=10, shuffle=True)\n",
    "testset = torch.utils.data.DataLoader(test, batch_size=10, shuffle=False)"
   ]
  },
  {
   "cell_type": "markdown",
   "metadata": {},
   "source": [
    "# Extract data from the Dataset"
   ]
  },
  {
   "cell_type": "code",
   "execution_count": 13,
   "metadata": {},
   "outputs": [
    {
     "data": {
      "image/png": "[encoded data removed]",
      "text/plain": [
       "<Figure size 432x288 with 1 Axes>"
      ]
     },
     "metadata": {
      "needs_background": "light"
     },
     "output_type": "display_data"
    },
    {
     "name": "stdout",
     "output_type": "stream",
     "text": [
      "Prediction: tensor(6)\n"
     ]
    },
    {
     "data": {
      "image/png": "[encoded data removed]",
      "text/plain": [
       "<Figure size 432x288 with 1 Axes>"
      ]
     },
     "metadata": {
      "needs_background": "light"
     },
     "output_type": "display_data"
    },
    {
     "name": "stdout",
     "output_type": "stream",
     "text": [
      "Prediction: tensor(7)\n"
     ]
    }
   ],
   "source": [
    "# Just an Example\n",
    "# Training Set\n",
    "for data in trainset:\n",
    "    plt.imshow(data[0][0].view(28,28))\n",
    "    plt.show()\n",
    "    print(\"Prediction:\",data[1][0])\n",
    "    break\n",
    "    \n",
    "# Test Set\n",
    "for data in testset:\n",
    "    plt.imshow(data[0][0].view(28,28))\n",
    "    plt.show()\n",
    "    print(\"Prediction:\",data[1][0])\n",
    "    break\n",
    "    \n"
   ]
  },
  {
   "cell_type": "markdown",
   "metadata": {},
   "source": [
    "# Data Balancing"
   ]
  },
  {
   "cell_type": "code",
   "execution_count": 81,
   "metadata": {},
   "outputs": [
    {
     "name": "stdout",
     "output_type": "stream",
     "text": [
      "Total number of digits: 60000\n",
      "Count of each digit\n",
      "0 : 5923\n",
      "1 : 6742\n",
      "2 : 5958\n",
      "3 : 6131\n",
      "4 : 5842\n",
      "5 : 5421\n",
      "6 : 5918\n",
      "7 : 6265\n",
      "8 : 5851\n",
      "9 : 5949\n",
      "\n",
      "\n",
      "\n",
      "Total number of digits: 60000\n",
      "Percentage of each digit\n",
      "0 : 9.87 %\n",
      "1 : 11.24 %\n",
      "2 : 9.93 %\n",
      "3 : 10.22 %\n",
      "4 : 9.74 %\n",
      "5 : 9.04 %\n",
      "6 : 9.86 %\n",
      "7 : 10.44 %\n",
      "8 : 9.75 %\n",
      "9 : 9.92 %\n"
     ]
    }
   ],
   "source": [
    "# Data Balancing\n",
    "# Count the number of each digit from 0-9\n",
    "\n",
    "# Initial counter for Digits\n",
    "total = 0\n",
    "counter = {0:0, 1:0, 2:0, 3:0, 4:0, 5:0, 6:0, 7:0, 8:0, 9:0}\n",
    "\n",
    "# Count each digit from the training set\n",
    "for data in trainset:\n",
    "    X,Y = data\n",
    "    for y in Y:\n",
    "        counter[int(y)] += 1\n",
    "        total += 1\n",
    "\n",
    "# Print count of each digit from 0-9\n",
    "print(\"Total number of digits:\",total)\n",
    "print(\"Count of each digit\")\n",
    "for i in counter:\n",
    "    print(i,\":\",counter[i])\n",
    "    \n",
    "print(\"\\n\\n\")\n",
    "\n",
    "# Percentage of each Digit\n",
    "# Print count of each digit from 0-9\n",
    "print(\"Total number of digits:\",total)\n",
    "print(\"Percentage of each digit\")\n",
    "for i in counter:\n",
    "    print(i,\":\",round(counter[i]/total*100,2),\"%\")\n",
    "    "
   ]
  },
  {
   "cell_type": "markdown",
   "metadata": {},
   "source": [
    "# Neural Networks"
   ]
  },
  {
   "cell_type": "code",
   "execution_count": 51,
   "metadata": {},
   "outputs": [],
   "source": [
    "# The torch.nn import gives us access to some helpful neural network things, such as various neural network layer types\n",
    "# (things like regular fully-connected layers, convolutional layers (for imagery), recurrent layers...etc).\n",
    "import torch.nn as nn\n",
    "\n",
    "# The torch.nn.functional area specifically gives us access to some handy functions that we might not want to write ourselves. \n",
    "# We will be using the relu or \"rectified linear\" activation function for our neurons. \n",
    "import torch.nn.functional as F"
   ]
  },
  {
   "cell_type": "code",
   "execution_count": 84,
   "metadata": {},
   "outputs": [],
   "source": [
    "# To make our Neural Network model, we're going to create a class. \n",
    "# We'll call this class net and this net will inhereit from the nn.Module class:\n",
    "# Fully connected refers to the point that every neuron in this layer is going to be fully connected to attaching neurons.\n",
    "\n",
    "class neural_network(nn.Module):\n",
    "    def __init__(self):\n",
    "        super().__init__()\n",
    "        # Define layers\n",
    "        # The last layer has 10 outputs as we have 10 classes\n",
    "        self.layer1 = nn.Linear(28*28, 64)\n",
    "        self.layer2 = nn.Linear(64, 64)\n",
    "        self.layer3 = nn.Linear(64, 64)\n",
    "        self.layer4 = nn.Linear(64, 10)\n",
    "        \n",
    "    def forward(self, x):\n",
    "        x = self.layer1(x)\n",
    "        x = self.layer2(x)\n",
    "        x = self.layer3(x)\n",
    "        x = self.layer4(x)\n",
    "        # Activation Function\n",
    "        return F.log_softmax(x, dim=1)\n",
    "\n"
   ]
  },
  {
   "cell_type": "code",
   "execution_count": 86,
   "metadata": {},
   "outputs": [],
   "source": [
    "# Instance of class neural_network\n",
    "net = neural_network()"
   ]
  },
  {
   "cell_type": "code",
   "execution_count": 87,
   "metadata": {},
   "outputs": [
    {
     "name": "stdout",
     "output_type": "stream",
     "text": [
      "tensor([[-2.3660, -2.1815, -2.4642, -2.3059, -2.0826, -2.5091, -2.3686, -2.3481,\n",
      "         -2.3053, -2.1742]], grad_fn=<LogSoftmaxBackward>)\n"
     ]
    }
   ],
   "source": [
    "# Example Dataset\n",
    "X = torch.randn((28,28))\n",
    "X = X.view(-1,28*28)\n",
    "\n",
    "output = net.forward(X)\n",
    "print(output)"
   ]
  },
  {
   "cell_type": "markdown",
   "metadata": {},
   "source": [
    "# Optimization"
   ]
  },
  {
   "cell_type": "code",
   "execution_count": 88,
   "metadata": {},
   "outputs": [],
   "source": [
    "import torch.optim as optim\n",
    "\n",
    "# Our loss_function is what calculates \"how far off\" our classifications are from reality\n",
    "# Optimizer is the thing that adjusts our model's adjustable parameters like the weights, to slowly, over time, fit our data. \n",
    "# I am going to have us using Adam, which is Adaptive Momentum.\n",
    "# Adaptive Momentum - Adam\n",
    "# lr - Learning rate\n",
    "# The learning rate dictates the magnitude of changes that the optimizer can make at a time\n",
    "\n",
    "loss_function = nn.CrossEntropyLoss()\n",
    "optimizer = optim.Adam(net.parameters(), lr=0.001)\n",
    "# Using Adam "
   ]
  },
  {
   "cell_type": "markdown",
   "metadata": {},
   "source": [
    "# Iterate over the data\n",
    "# Epoch is the full pass over the dataset"
   ]
  },
  {
   "cell_type": "code",
   "execution_count": 89,
   "metadata": {},
   "outputs": [
    {
     "name": "stdout",
     "output_type": "stream",
     "text": [
      "tensor(0.7340, grad_fn=<NllLossBackward>)\n",
      "tensor(0.2378, grad_fn=<NllLossBackward>)\n",
      "tensor(0.5317, grad_fn=<NllLossBackward>)\n",
      "tensor(0.1692, grad_fn=<NllLossBackward>)\n",
      "tensor(0.1736, grad_fn=<NllLossBackward>)\n"
     ]
    }
   ],
   "source": [
    "# n full passes over the data\n",
    "n = 5\n",
    "\n",
    "for epoch in range(n):\n",
    "    for data in trainset: \n",
    "        X, y = data  # X is the batch of features, y is the batch of targets.\n",
    "        net.zero_grad()  # sets gradients to 0 before loss calculation. You will do this likely at every step.\n",
    "        output = net.forward(X.view(-1,28*28))  # pass in the reshaped batch (recall they are 28x28 atm)\n",
    "        loss = F.nll_loss(output, y)  # calculate and grab the loss value\n",
    "        loss.backward()  # apply this loss backwards through the network's parameters\n",
    "        optimizer.step()  # attempt to optimize weights to account for loss/gradients\n",
    "    print(loss)  # print loss. loss (a measure of wrongness) should decline."
   ]
  },
  {
   "cell_type": "code",
   "execution_count": 78,
   "metadata": {},
   "outputs": [
    {
     "name": "stdout",
     "output_type": "stream",
     "text": [
      "Accuracy:  0.921\n"
     ]
    }
   ],
   "source": [
    "# To test this, we need to iterate over our test set, measuring for correctness by comparing output to target values.\n",
    "correct = 0\n",
    "total = 0\n",
    "\n",
    "with torch.no_grad():\n",
    "    for data in testset:\n",
    "        X, y = data\n",
    "        output = net.forward(X.view(-1,784))\n",
    "        for idx, i in enumerate(output):\n",
    "            # Check id classification matches to the original value\n",
    "            if torch.argmax(i) == y[idx]:\n",
    "                correct += 1\n",
    "            total += 1\n",
    "            \n",
    "# Calculate Accuracy\n",
    "print(\"Accuracy: \", round(correct/total, 3))"
   ]
  },
  {
   "cell_type": "code",
   "execution_count": 80,
   "metadata": {},
   "outputs": [
    {
     "data": {
      "image/png": "[encoded data removed]",
      "text/plain": [
       "<Figure size 432x288 with 1 Axes>"
      ]
     },
     "metadata": {
      "needs_background": "light"
     },
     "output_type": "display_data"
    },
    {
     "name": "stdout",
     "output_type": "stream",
     "text": [
      "Digit: tensor(6)\n",
      "\n",
      "Prediction using trained model:  tensor(6)\n"
     ]
    }
   ],
   "source": [
    "# Cross Check accuracy for a random data value\n",
    "data = X[9].view(28,28)\n",
    "plt.imshow(data)\n",
    "plt.show()\n",
    "\n",
    "print('Digit:',y[9])\n",
    "\n",
    "print('\\nPrediction using trained model: ',torch.argmax(net(data.view(-1,28*28))[0]))"
   ]
  },
  {
   "cell_type": "code",
   "execution_count": null,
   "metadata": {},
   "outputs": [],
   "source": []
  }
 ],
 "metadata": {
  "kernelspec": {
   "display_name": "Python 3",
   "language": "python",
   "name": "python3"
  },
  "language_info": {
   "codemirror_mode": {
    "name": "ipython",
    "version": 3
   },
   "file_extension": ".py",
   "mimetype": "text/x-python",
   "name": "python",
   "nbconvert_exporter": "python",
   "pygments_lexer": "ipython3",
   "version": "3.7.6"
  }
 },
 "nbformat": 4,
 "nbformat_minor": 4
}
